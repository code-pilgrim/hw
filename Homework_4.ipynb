{
  "nbformat": 4,
  "nbformat_minor": 0,
  "metadata": {
    "colab": {
      "provenance": [],
      "authorship_tag": "ABX9TyNdAwrjp/OZUlBExa28gjJ6"
    },
    "kernelspec": {
      "name": "python3",
      "display_name": "Python 3"
    },
    "language_info": {
      "name": "python"
    }
  },
  "cells": [
    {
      "cell_type": "markdown",
      "source": [
        "Loading the Dataset and functions"
      ],
      "metadata": {
        "id": "FMPNlU9zWg_K"
      }
    },
    {
      "cell_type": "code",
      "execution_count": null,
      "metadata": {
        "id": "zWz_BlgbfSGZ"
      },
      "outputs": [],
      "source": [
        "from sklearn.datasets import load_breast_cancer\n",
        "from sklearn.naive_bayes import GaussianNB\n",
        "from sklearn.neighbors import KNeighborsClassifier\n",
        "from sklearn.linear_model import LogisticRegression\n",
        "from sklearn.svm import SVC\n",
        "from sklearn.model_selection import cross_val_score, train_test_split, KFold\n",
        "from sklearn.metrics import confusion_matrix, classification_report"
      ]
    },
    {
      "cell_type": "code",
      "source": [
        "breast_cancer = load_breast_cancer()"
      ],
      "metadata": {
        "id": "ondMSwweYNYZ"
      },
      "execution_count": null,
      "outputs": []
    },
    {
      "cell_type": "code",
      "source": [
        "print(breast_cancer.DESCR)"
      ],
      "metadata": {
        "collapsed": true,
        "id": "Vn-ZlNPSEWnS"
      },
      "execution_count": null,
      "outputs": []
    },
    {
      "cell_type": "markdown",
      "source": [
        "Checking the Sample and Target Sizes"
      ],
      "metadata": {
        "id": "1-as__BNWm-i"
      }
    },
    {
      "cell_type": "code",
      "source": [
        "breast_cancer.target[::100]"
      ],
      "metadata": {
        "id": "YyuZqPGQHrP2"
      },
      "execution_count": null,
      "outputs": []
    },
    {
      "cell_type": "code",
      "source": [
        "X = breast_cancer.data\n",
        "y = breast_cancer.target\n",
        "\n",
        "X.shape, y.shape"
      ],
      "metadata": {
        "id": "Q4zJ8DMkHmWD"
      },
      "execution_count": null,
      "outputs": []
    },
    {
      "cell_type": "markdown",
      "source": [
        "Splitting the Data for Training and Testing"
      ],
      "metadata": {
        "id": "Z98N0QAKWvbH"
      }
    },
    {
      "cell_type": "code",
      "source": [
        "X_train, X_test, y_train, y_test = train_test_split(X, y, random_state=11)"
      ],
      "metadata": {
        "id": "t3icaoiHr3MX"
      },
      "execution_count": null,
      "outputs": []
    },
    {
      "cell_type": "markdown",
      "source": [
        "Training and Testing Set Sizes"
      ],
      "metadata": {
        "id": "EDk5IXpTW12I"
      }
    },
    {
      "cell_type": "code",
      "source": [
        "X_train.shape, X_test.shape"
      ],
      "metadata": {
        "id": "HDTxm-t0Cvdj"
      },
      "execution_count": null,
      "outputs": []
    },
    {
      "cell_type": "markdown",
      "source": [
        "Creating the Model (GaussianNB)"
      ],
      "metadata": {
        "id": "TjgKGEcUW4cz"
      }
    },
    {
      "cell_type": "code",
      "source": [
        "nb = GaussianNB()"
      ],
      "metadata": {
        "id": "1B9vgoVXI9Yq"
      },
      "execution_count": null,
      "outputs": []
    },
    {
      "cell_type": "markdown",
      "source": [
        "Training the Model"
      ],
      "metadata": {
        "id": "i6apIZCcW63P"
      }
    },
    {
      "cell_type": "code",
      "source": [
        "nb.fit(X=X_train, y=y_train)"
      ],
      "metadata": {
        "id": "uG14UQz1LI1M"
      },
      "execution_count": null,
      "outputs": []
    },
    {
      "cell_type": "markdown",
      "source": [
        "Predicting Breast_Cancer Classes"
      ],
      "metadata": {
        "id": "kdC2FtwCW_dJ"
      }
    },
    {
      "cell_type": "code",
      "source": [
        "predicted = nb.predict(X=X_test)\n",
        "\n",
        "expected = y_test"
      ],
      "metadata": {
        "id": "q1rFPOIxLnrq"
      },
      "execution_count": null,
      "outputs": []
    },
    {
      "cell_type": "code",
      "source": [
        "predicted[:20]"
      ],
      "metadata": {
        "id": "SAV9lAwtL35S"
      },
      "execution_count": null,
      "outputs": []
    },
    {
      "cell_type": "code",
      "source": [
        "expected[:20]"
      ],
      "metadata": {
        "id": "lRC-XIGjMnw0"
      },
      "execution_count": null,
      "outputs": []
    },
    {
      "cell_type": "code",
      "source": [
        "wrong = [(p,e) for (p,e) in zip(predicted, expected) if p!=e]\n",
        "\n",
        "wrong"
      ],
      "metadata": {
        "id": "-XgYcqSgM1M_"
      },
      "execution_count": null,
      "outputs": []
    },
    {
      "cell_type": "markdown",
      "source": [
        "Estimator Method score"
      ],
      "metadata": {
        "id": "BwvWf1e1XD1r"
      }
    },
    {
      "cell_type": "code",
      "source": [
        "print(f'{nb.score(X_test, y_test):.2%}')"
      ],
      "metadata": {
        "id": "bMbEwVJYNNHn"
      },
      "execution_count": null,
      "outputs": []
    },
    {
      "cell_type": "markdown",
      "source": [
        "Confusion Matrix"
      ],
      "metadata": {
        "id": "qW8njCeKXIYC"
      }
    },
    {
      "cell_type": "code",
      "source": [
        "confusion = confusion_matrix(y_true=expected, y_pred=predicted)\n",
        "\n",
        "confusion"
      ],
      "metadata": {
        "id": "NpbGA7FJN0tz"
      },
      "execution_count": null,
      "outputs": []
    },
    {
      "cell_type": "markdown",
      "source": [
        "Classification Report"
      ],
      "metadata": {
        "id": "-6wqlfZEXNmv"
      }
    },
    {
      "cell_type": "code",
      "source": [
        "names = [str(breast_cancer) for breast_cancer in breast_cancer.target_names]\n",
        "\n",
        "print(classification_report(expected, predicted, target_names=names))"
      ],
      "metadata": {
        "id": "YKMmC30EPrif"
      },
      "execution_count": null,
      "outputs": []
    },
    {
      "cell_type": "markdown",
      "source": [
        "Visualizing the Confusion Matrix"
      ],
      "metadata": {
        "id": "UhI7fqpsXPe-"
      }
    },
    {
      "cell_type": "code",
      "source": [
        "import pandas as pd"
      ],
      "metadata": {
        "id": "xaV8opXTQjUC"
      },
      "execution_count": null,
      "outputs": []
    },
    {
      "cell_type": "code",
      "source": [
        "confusion_df = pd.DataFrame(confusion, index=range(2), columns=range(2))\n",
        "\n",
        "import seaborn as sns\n",
        "\n",
        "axes = sns.heatmap(confusion_df, annot=True, cmap='nipy_spectral_r')"
      ],
      "metadata": {
        "id": "stxL_W7YQloL"
      },
      "execution_count": null,
      "outputs": []
    },
    {
      "cell_type": "markdown",
      "source": [
        "K-Fold Cross-Validation"
      ],
      "metadata": {
        "id": "df_Wij5LXTzV"
      }
    },
    {
      "cell_type": "code",
      "source": [
        "kfold = KFold(n_splits=10, random_state=11, shuffle=True)"
      ],
      "metadata": {
        "id": "tlBZS9nJQ6FA"
      },
      "execution_count": null,
      "outputs": []
    },
    {
      "cell_type": "markdown",
      "source": [
        "Using the KFold Object with Function cross_val_score"
      ],
      "metadata": {
        "id": "lKA05-LhXXNB"
      }
    },
    {
      "cell_type": "code",
      "source": [
        "scores = cross_val_score(estimator=nb, X=breast_cancer.data, y=breast_cancer.target, cv=kfold)\n",
        "\n",
        "scores"
      ],
      "metadata": {
        "id": "-Kw-FwsKTJML"
      },
      "execution_count": null,
      "outputs": []
    },
    {
      "cell_type": "code",
      "source": [
        "print(f'Mean accuracy: {scores.mean():.2%}')"
      ],
      "metadata": {
        "id": "W2PFC2juTn3L"
      },
      "execution_count": null,
      "outputs": []
    },
    {
      "cell_type": "code",
      "source": [
        "print(f'Accuracy standard deviation: {scores.std():.2%}')"
      ],
      "metadata": {
        "id": "qCFy--PATy9r"
      },
      "execution_count": null,
      "outputs": []
    },
    {
      "cell_type": "markdown",
      "source": [
        "Running Multiple Models to Find the Best One"
      ],
      "metadata": {
        "id": "MaPLXALcXbgZ"
      }
    },
    {
      "cell_type": "code",
      "source": [
        "estimators = {'GaussianNB': nb,\n",
        "    'KNeighborsClassifier': KNeighborsClassifier(),\n",
        "    'LogisticRegression': LogisticRegression(solver='lbfgs', multi_class='ovr', max_iter=10000),\n",
        "    'SVC': SVC(gamma='scale')}"
      ],
      "metadata": {
        "id": "_wGHjja7T92j"
      },
      "execution_count": null,
      "outputs": []
    },
    {
      "cell_type": "code",
      "source": [
        "for estimator_name, estimator_object in estimators.items():\n",
        "    kfold = KFold(n_splits=10, random_state=11, shuffle=True)\n",
        "    scores = cross_val_score(estimator=estimator_object, X=breast_cancer.data, y=breast_cancer.target, cv=kfold)\n",
        "    print(f'{estimator_name:>20}: ' + f'mean_accuracy={scores.mean():.2%}: ' + f'standard_deviation={scores.std():.2%}')"
      ],
      "metadata": {
        "id": "9offbM91Uuir"
      },
      "execution_count": null,
      "outputs": []
    },
    {
      "cell_type": "markdown",
      "source": [
        "### References:\n",
        "\n",
        "Huan, X. (2024). *ex15_15.ipynb*.\n",
        "\n",
        "Huan, X. (2024). *KNN_Iris.ipynb*.\n",
        "\n",
        "Deitel, P., & Deitel, H. (2020). Intro to Python for Computer Science and Data Science: Learning to Program with AI, Big Data and the Cloud. Pearson."
      ],
      "metadata": {
        "id": "d8nGQ2k7YYNQ"
      }
    },
    {
      "cell_type": "code",
      "source": [],
      "metadata": {
        "id": "elKQgm0rb3JZ"
      },
      "execution_count": null,
      "outputs": []
    }
  ]
}