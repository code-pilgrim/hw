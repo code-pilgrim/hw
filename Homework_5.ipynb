{
  "nbformat": 4,
  "nbformat_minor": 0,
  "metadata": {
    "colab": {
      "provenance": [],
      "authorship_tag": "ABX9TyMWFg4hsQDMsQ+yag7CDJ7x",
      "include_colab_link": true
    },
    "kernelspec": {
      "name": "python3",
      "display_name": "Python 3"
    },
    "language_info": {
      "name": "python"
    }
  },
  "cells": [
    {
      "cell_type": "markdown",
      "metadata": {
        "id": "view-in-github",
        "colab_type": "text"
      },
      "source": [
        "<a href=\"https://colab.research.google.com/github/code-pilgrim/hw/blob/main/Homework_5.ipynb\" target=\"_parent\"><img src=\"https://colab.research.google.com/assets/colab-badge.svg\" alt=\"Open In Colab\"/></a>"
      ]
    },
    {
      "cell_type": "markdown",
      "source": [
        "# 1. Determine k in k-Means Clustering"
      ],
      "metadata": {
        "id": "X5UWAVRKVdNp"
      }
    },
    {
      "cell_type": "markdown",
      "source": [
        "Loading the Dataset and Functions"
      ],
      "metadata": {
        "id": "fD61iWu1TXUb"
      }
    },
    {
      "cell_type": "code",
      "execution_count": null,
      "metadata": {
        "id": "r8utPxlHL8-b"
      },
      "outputs": [],
      "source": [
        "from sklearn.datasets import load_iris\n",
        "from sklearn.cluster import KMeans\n",
        "import numpy as np\n",
        "import matplotlib.pyplot as plt"
      ]
    },
    {
      "cell_type": "code",
      "source": [
        "iris = load_iris()"
      ],
      "metadata": {
        "id": "Cy2a24jbOGRd"
      },
      "execution_count": null,
      "outputs": []
    },
    {
      "cell_type": "markdown",
      "source": [
        "Cheking Target and Sample Sizes"
      ],
      "metadata": {
        "id": "DWAfY9SQTckM"
      }
    },
    {
      "cell_type": "code",
      "source": [
        "X = iris.data\n",
        "y = iris.target\n",
        "\n",
        "X.shape, y.shape"
      ],
      "metadata": {
        "id": "AoK7RIJSPXyM"
      },
      "execution_count": null,
      "outputs": []
    },
    {
      "cell_type": "markdown",
      "source": [
        "K-Means Clustering, WCSS and Fitting the Model"
      ],
      "metadata": {
        "id": "L6IsSN4WTjxw"
      }
    },
    {
      "cell_type": "code",
      "source": [
        "WCSS=[]\n",
        "for i in range(1,11):\n",
        "  kmeans=KMeans(n_clusters=i,init='k-means++', n_init='auto',)\n",
        "  kmeans.fit(X)\n",
        "  WCSS.append(kmeans.inertia_)"
      ],
      "metadata": {
        "id": "QzabfjZgFIu2"
      },
      "execution_count": null,
      "outputs": []
    },
    {
      "cell_type": "markdown",
      "source": [
        "Plotting the Elbow Method"
      ],
      "metadata": {
        "id": "P2mjbWt-VQFm"
      }
    },
    {
      "cell_type": "code",
      "source": [
        "plt.plot(range(1,11),WCSS)\n",
        "plt.title('The elbow method')\n",
        "plt.xlabel('Number of clusters')\n",
        "plt.ylabel('WCSS')\n",
        "plt.show()"
      ],
      "metadata": {
        "id": "giBHTvMcYmuK"
      },
      "execution_count": null,
      "outputs": []
    },
    {
      "cell_type": "markdown",
      "source": [
        "## References:\n",
        "\n",
        "* Wales, M *(self)*. (2024). *Homework 4.ipynb*. https://github.com/code-pilgrim/hw/blob/0e5fad2a57f8546468da74cb691ffad9c578c4b7/Homework_4.ipynb.\n",
        "\n",
        "* Huan, X. (2024). *KNN_Iris.ipynb*.\n",
        "\n",
        "* GeeksforGeeks. (2023, May 10). Elbow Method for optimal value of k in KMeans. GeeksforGeeks. https://www.geeksforgeeks.org/elbow-method-for-optimal-value-of-k-in-kmeans/\n",
        "\n",
        "* Khandelwal, R. (2023, September 23). Evaluating goodness of clustering for unsupervised learning. Medium. https://towardsdatascience.com/evaluating-goodness-of-clustering-for-unsupervised-learning-case-ccebcfd1d4f1\n",
        "\n",
        "* Tiamiyu, I. (2023, October 1). Clustering: WCSS and Elbow method - Ismail Tiamiyu - Medium. Medium. https://medium.com/@tiami.abiola/clustering-wcss-and-elbow-method-427db8968ba1\n",
        "\n",
        "* ZalaRushirajsinh. (2023, November 4). The elbow method: finding the optimal number of clusters. Medium. https://medium.com/@zalarushirajsinh07/the-elbow-method-finding-the-optimal-number-of-clusters-d297f5aeb189\n",
        "\n",
        "* Deitel, P., & Deitel, H. (2020). Intro to Python for Computer Science and Data Science: Learning to Program with AI, Big Data and the Cloud. Pearson."
      ],
      "metadata": {
        "id": "z-S6qYuBPLRO"
      }
    },
    {
      "cell_type": "markdown",
      "source": [
        "# 2. Multi-Classification of Digits with the MNIST Dataset"
      ],
      "metadata": {
        "id": "w6rq9NRCWEkT"
      }
    },
    {
      "cell_type": "markdown",
      "source": [
        "Loading the Dataset and Functions"
      ],
      "metadata": {
        "id": "B0jx07wifTpm"
      }
    },
    {
      "cell_type": "code",
      "source": [
        "from sklearn.datasets import fetch_openml\n",
        "from sklearn.model_selection import train_test_split\n",
        "from sklearn.preprocessing import StandardScaler\n",
        "from sklearn.linear_model import LogisticRegression\n",
        "from sklearn.decomposition import PCA"
      ],
      "metadata": {
        "id": "qOkkRNL5WiRR"
      },
      "execution_count": null,
      "outputs": []
    },
    {
      "cell_type": "code",
      "source": [
        "X, y = fetch_openml('mnist_784', version=1, return_X_y=True, parser='auto')"
      ],
      "metadata": {
        "id": "AAcMD79ufk4e"
      },
      "execution_count": null,
      "outputs": []
    },
    {
      "cell_type": "code",
      "source": [
        "X.shape, y.shape"
      ],
      "metadata": {
        "id": "zu_QT7AcJHhS"
      },
      "execution_count": null,
      "outputs": []
    },
    {
      "cell_type": "markdown",
      "source": [
        "Split Data into Training and Testing"
      ],
      "metadata": {
        "id": "oMel6-d_e-Xo"
      }
    },
    {
      "cell_type": "code",
      "source": [
        "X_train, X_test, y_train, y_test = train_test_split(X, y, random_state=11)"
      ],
      "metadata": {
        "id": "ZKWScX4oft_f"
      },
      "execution_count": null,
      "outputs": []
    },
    {
      "cell_type": "code",
      "source": [
        "X_train.shape, X_test.shape"
      ],
      "metadata": {
        "id": "0drWKvmYJf3s"
      },
      "execution_count": null,
      "outputs": []
    },
    {
      "cell_type": "markdown",
      "source": [
        "Apply StandardScaler"
      ],
      "metadata": {
        "id": "f8891TBpfByB"
      }
    },
    {
      "cell_type": "code",
      "source": [
        "scaler = StandardScaler()\n",
        "X_train = scaler.fit_transform(X_train)\n",
        "X_test = scaler.transform(X_test)"
      ],
      "metadata": {
        "id": "F_sDj3uRJvzB"
      },
      "execution_count": null,
      "outputs": []
    },
    {
      "cell_type": "markdown",
      "source": [
        "Apply PCA"
      ],
      "metadata": {
        "id": "JEmwdISmfE2z"
      }
    },
    {
      "cell_type": "code",
      "source": [
        "pca = PCA(n_components=2, random_state=11)\n",
        "pca.fit(X_train)\n",
        "mnist_pca = pca.transform(X_train)\n",
        "mnist_pca.shape"
      ],
      "metadata": {
        "id": "ZUwvlELSMB6R"
      },
      "execution_count": null,
      "outputs": []
    },
    {
      "cell_type": "markdown",
      "source": [
        "Apply Logistic Regression"
      ],
      "metadata": {
        "id": "GZjKJ_DLfHxK"
      }
    },
    {
      "cell_type": "code",
      "source": [
        "%timeit logisticRegr = LogisticRegression(solver = 'lbfgs').fit(mnist_pca, y_train)\n"
      ],
      "metadata": {
        "id": "I-_yy2V7XNQG"
      },
      "execution_count": null,
      "outputs": []
    },
    {
      "cell_type": "code",
      "source": [
        "%timeit print(logisticRegr.score(mnist_pca, y_train))\n"
      ],
      "metadata": {
        "id": "_mkbgBoqKs_T"
      },
      "execution_count": null,
      "outputs": []
    },
    {
      "cell_type": "markdown",
      "source": [
        "## References:\n",
        "\n",
        "* Deitel, P., & Deitel, H. (2020). Intro to Python for Computer Science and Data Science: Learning to Program with AI, Big Data and the Cloud. Pearson.\n",
        "\n",
        "* 7.4. Loading other datasets. (n.d.). Scikit-learn. https://scikit-learn.org/stable/datasets/loading_other_datasets.html#openml\n",
        "\n",
        "* fetch_openml. (n.d.). Scikit-learn. https://scikit-learn.org/stable/modules/generated/sklearn.datasets.fetch_openml.html\n",
        "\n",
        "* Visualization of MLP weights on MNIST. (n.d.). Scikit-learn. https://scikit-learn.org/stable/auto_examples/neural_networks/plot_mnist_filters.html#sphx-glr-auto-examples-neural-networks-plot-mnist-filters-py\n",
        "\n",
        "* OpenML. (n.d.). https://www.openml.org/search?type=data&sort=runs&id=554&status=active\n",
        "\n",
        "* GeeksforGeeks. (2024, May 31). MNIST Dataset : Practical Applications using KERAS and PyTorch. GeeksforGeeks. https://www.geeksforgeeks.org/mnist-dataset/\n",
        "\n",
        "* Verma, J. (2020, September 24). How to Load and Plot the MNIST dataset in Python? - AskPython. AskPython. https://www.askpython.com/python/examples/load-and-plot-mnist-dataset-in-python\n",
        "\n",
        "* Huan, X. (2024). *KNN_Iris.ipynb*.\n",
        "\n",
        "* MNIST classification using multinomial logistic + L1. (n.d.). Scikit-learn. https://scikit-learn.org/stable/auto_examples/linear_model/plot_sparse_logistic_regression_mnist.html#sphx-glr-auto-examples-linear-model-plot-sparse-logistic-regression-mnist-py\n",
        "\n",
        "* StandardScaler. (n.d.). Scikit-learn. https://scikit-learn.org/stable/modules/generated/sklearn.preprocessing.StandardScaler.html#sklearn.preprocessing.StandardScaler\n",
        "\n",
        "* PCA. (n.d.). Scikit-learn. https://scikit-learn.org/stable/modules/generated/sklearn.decomposition.PCA.html#sklearn.decomposition.PCA\n",
        "\n",
        "* Wales, M (self). (2024). Homework 2.ipynb. https://github.com/code-pilgrim/hw/blob/0e5fad2a57f8546468da74cb691ffad9c578c4b7/Homework_2.ipynb."
      ],
      "metadata": {
        "id": "uslwb5CxWYRy"
      }
    }
  ]
}